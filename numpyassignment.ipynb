{
 "cells": [
  {
   "cell_type": "code",
   "execution_count": 1,
   "id": "dc83310a",
   "metadata": {},
   "outputs": [],
   "source": [
    "import numpy as np"
   ]
  },
  {
   "cell_type": "code",
   "execution_count": 5,
   "id": "c1c088e6",
   "metadata": {},
   "outputs": [
    {
     "name": "stdout",
     "output_type": "stream",
     "text": [
      "mean: 166.7\n"
     ]
    }
   ],
   "source": [
    "heights = np.array([160, 155, 172, 165, 180, 158, 175, 163, 171, 168])\n",
    "mean = np.mean(heights)\n",
    "print(\"mean:\",mean)\n"
   ]
  },
  {
   "cell_type": "code",
   "execution_count": 8,
   "id": "f3652cde",
   "metadata": {},
   "outputs": [
    {
     "name": "stdout",
     "output_type": "stream",
     "text": [
      "Mode: 155 Frequency: 1\n"
     ]
    }
   ],
   "source": [
    "from scipy import stats\n",
    "\n",
    "mode = stats.mode(heights)\n",
    "print(\"Mode:\", mode.mode, \"Frequency:\", mode.count)"
   ]
  },
  {
   "cell_type": "code",
   "execution_count": 10,
   "id": "b8874232",
   "metadata": {},
   "outputs": [
    {
     "name": "stdout",
     "output_type": "stream",
     "text": [
      "Standard Deviation: 7.5372408744845085\n"
     ]
    }
   ],
   "source": [
    "std_dev = np.std(heights)\n",
    "print(\"Standard Deviation:\", std_dev)"
   ]
  },
  {
   "cell_type": "code",
   "execution_count": 15,
   "id": "a0e7ba64",
   "metadata": {},
   "outputs": [
    {
     "name": "stdout",
     "output_type": "stream",
     "text": [
      "Custom normal random array: [-0.03026005 -4.11515219  0.58575187 -1.00644166  1.31458311 -0.39163428\n",
      " -0.86196599  1.51825639  0.86328296 -0.15124075]\n",
      "\n",
      "\n",
      "Argmax: 7\n",
      "\n",
      "\n",
      "Argmin: 1\n",
      "\n",
      "\n",
      "Subtraction: 6\n"
     ]
    }
   ],
   "source": [
    "#New array of numbers with mean 0 and SD 1\n",
    "custom_normal_array= np.random.normal(0, 1, size=10)\n",
    "print(\"Custom normal random array:\",custom_normal_array)\n",
    "print('\\n')\n",
    "#tallest \n",
    "array_argmax = np.argmax(custom_normal_array)\n",
    "print(\"Argmax:\", array_argmax)\n",
    "print('\\n')\n",
    "#Short\n",
    "array_argmin = np.argmin(custom_normal_array)\n",
    "print(\"Argmin:\", array_argmin)\n",
    "print('\\n')\n",
    "subtraction = array_argmax  - array_argmin \n",
    "print(\"Subtraction:\", subtraction)"
   ]
  },
  {
   "cell_type": "code",
   "execution_count": 18,
   "id": "51111a86",
   "metadata": {},
   "outputs": [
    {
     "name": "stdout",
     "output_type": "stream",
     "text": [
      "Sample without replacement: [171 155 160 175 165]\n"
     ]
    }
   ],
   "source": [
    "#sample of five without replacement\n",
    "sample_without_replacement = np.random.choice(heights, 5, replace=False)\n",
    "print(\"Sample without replacement:\", sample_without_replacement)\n"
   ]
  },
  {
   "cell_type": "code",
   "execution_count": null,
   "id": "3c1eb8dc",
   "metadata": {},
   "outputs": [],
   "source": []
  },
  {
   "cell_type": "code",
   "execution_count": null,
   "id": "7ee9e4b5",
   "metadata": {},
   "outputs": [],
   "source": []
  }
 ],
 "metadata": {
  "kernelspec": {
   "display_name": "Python 3 (ipykernel)",
   "language": "python",
   "name": "python3"
  },
  "language_info": {
   "codemirror_mode": {
    "name": "ipython",
    "version": 3
   },
   "file_extension": ".py",
   "mimetype": "text/x-python",
   "name": "python",
   "nbconvert_exporter": "python",
   "pygments_lexer": "ipython3",
   "version": "3.11.7"
  }
 },
 "nbformat": 4,
 "nbformat_minor": 5
}
